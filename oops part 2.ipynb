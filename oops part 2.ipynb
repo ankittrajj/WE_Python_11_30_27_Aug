{
 "cells": [
  {
   "cell_type": "code",
   "execution_count": 1,
   "id": "a36d205a",
   "metadata": {},
   "outputs": [
    {
     "data": {
      "text/plain": [
       "'a'"
      ]
     },
     "execution_count": 1,
     "metadata": {},
     "output_type": "execute_result"
    }
   ],
   "source": [
    "class std:\n",
    "    def __init__(self,name,age):\n",
    "        self.name = name\n",
    "        self.age = age\n",
    "        \n",
    "s = std('a',23)\n",
    "s.name\n",
    "        "
   ]
  },
  {
   "cell_type": "code",
   "execution_count": 2,
   "id": "1cf0a552",
   "metadata": {},
   "outputs": [
    {
     "data": {
      "text/plain": [
       "23"
      ]
     },
     "execution_count": 2,
     "metadata": {},
     "output_type": "execute_result"
    }
   ],
   "source": [
    "s.age"
   ]
  },
  {
   "cell_type": "code",
   "execution_count": 3,
   "id": "30d6b3b8",
   "metadata": {},
   "outputs": [
    {
     "data": {
      "text/plain": [
       "56"
      ]
     },
     "execution_count": 3,
     "metadata": {},
     "output_type": "execute_result"
    }
   ],
   "source": [
    "#wap to perform the output of a emp\n",
    "# where u can use the attribute of name,\n",
    "# emp_id and sal.\n",
    "\n",
    "class emp:\n",
    "    def __init__(self,name,emp_id,sal):\n",
    "        self.name = name\n",
    "        self.emp_id = emp_id\n",
    "        self.sal = sal\n",
    "        \n",
    "        \n",
    "e = emp('a',1222,56)\n",
    "e.sal"
   ]
  },
  {
   "cell_type": "code",
   "execution_count": 4,
   "id": "e319777c",
   "metadata": {},
   "outputs": [
    {
     "data": {
      "text/plain": [
       "'a'"
      ]
     },
     "execution_count": 4,
     "metadata": {},
     "output_type": "execute_result"
    }
   ],
   "source": [
    "e.name"
   ]
  },
  {
   "cell_type": "code",
   "execution_count": 5,
   "id": "ec332e47",
   "metadata": {},
   "outputs": [
    {
     "data": {
      "text/plain": [
       "1222"
      ]
     },
     "execution_count": 5,
     "metadata": {},
     "output_type": "execute_result"
    }
   ],
   "source": [
    "e.emp_id"
   ]
  },
  {
   "cell_type": "markdown",
   "id": "6a931b4c",
   "metadata": {},
   "source": [
    "# Pillars of oops\n",
    "### Inheritance"
   ]
  },
  {
   "cell_type": "code",
   "execution_count": 6,
   "id": "2418f40a",
   "metadata": {},
   "outputs": [],
   "source": [
    "class pc:\n",
    "    def __init__(self,name,addr):\n",
    "        self.name = name\n",
    "        self.addr = addr\n",
    "    \n",
    "class child(pc):\n",
    "    def __init__(self,name,addr,marks):\n",
    "        pc.__init__(self,name,addr)\n",
    "        self.marks = marks\n",
    "        \n",
    "c = child('a','up',67)"
   ]
  },
  {
   "cell_type": "code",
   "execution_count": 7,
   "id": "61cedee4",
   "metadata": {},
   "outputs": [
    {
     "data": {
      "text/plain": [
       "'a'"
      ]
     },
     "execution_count": 7,
     "metadata": {},
     "output_type": "execute_result"
    }
   ],
   "source": [
    "c.name"
   ]
  },
  {
   "cell_type": "code",
   "execution_count": 8,
   "id": "9c741c1f",
   "metadata": {},
   "outputs": [
    {
     "data": {
      "text/plain": [
       "'up'"
      ]
     },
     "execution_count": 8,
     "metadata": {},
     "output_type": "execute_result"
    }
   ],
   "source": [
    "c.addr"
   ]
  },
  {
   "cell_type": "code",
   "execution_count": 9,
   "id": "de3df3d3",
   "metadata": {},
   "outputs": [
    {
     "data": {
      "text/plain": [
       "67"
      ]
     },
     "execution_count": 9,
     "metadata": {},
     "output_type": "execute_result"
    }
   ],
   "source": [
    "c.marks"
   ]
  },
  {
   "cell_type": "code",
   "execution_count": 18,
   "id": "96b29a26",
   "metadata": {},
   "outputs": [],
   "source": [
    "#wap to perform inheritance and try to get\n",
    "# the output of price of the laptop.\n",
    "\n",
    "#wap to find the avg speed of a bike and \n",
    "# also perform inhertance where the time taken\n",
    "# is 5 hours to cover a distance of 346km.\n",
    "\n",
    "class bike1:\n",
    "    def __init__(self,dis,time):\n",
    "        self.dis = dis\n",
    "        self.time = time\n",
    "        \n",
    "class bike2(bike1):\n",
    "    def __init__(self,dis,time,color):\n",
    "        bike1.__init__(self,dis,time)\n",
    "        self.color = color\n",
    "        \n",
    "    def speed(self):\n",
    "        s = self.dis/self.time\n",
    "        return s\n",
    "    \n",
    "b = bike2(346,5,'red')\n",
    "        \n",
    "        "
   ]
  },
  {
   "cell_type": "code",
   "execution_count": 19,
   "id": "e974ecc2",
   "metadata": {},
   "outputs": [
    {
     "data": {
      "text/plain": [
       "5"
      ]
     },
     "execution_count": 19,
     "metadata": {},
     "output_type": "execute_result"
    }
   ],
   "source": [
    "b.time"
   ]
  },
  {
   "cell_type": "code",
   "execution_count": 20,
   "id": "d4dd2dc2",
   "metadata": {},
   "outputs": [
    {
     "data": {
      "text/plain": [
       "69.2"
      ]
     },
     "execution_count": 20,
     "metadata": {},
     "output_type": "execute_result"
    }
   ],
   "source": [
    "b.speed()"
   ]
  },
  {
   "cell_type": "markdown",
   "id": "2be484c5",
   "metadata": {},
   "source": [
    "# Multilevel Inheritance"
   ]
  },
  {
   "cell_type": "code",
   "execution_count": 21,
   "id": "81a8c0ef",
   "metadata": {},
   "outputs": [],
   "source": [
    "# gpc to pc\n",
    "\n",
    "class gpc:\n",
    "    def __init__(self,name):\n",
    "        self.name = name\n",
    "    \n",
    "class pc:\n",
    "    def __init__(self,name,age):\n",
    "        gpc.__init__(self,name)\n",
    "        self.age = age\n",
    "    \n",
    "class cc:\n",
    "    def __init__(self,marks):\n",
    "        self.marks = marks\n",
    "        \n",
    "        \n",
    "p = pc('a',90)"
   ]
  },
  {
   "cell_type": "code",
   "execution_count": 22,
   "id": "4a7b97c6",
   "metadata": {},
   "outputs": [
    {
     "data": {
      "text/plain": [
       "'a'"
      ]
     },
     "execution_count": 22,
     "metadata": {},
     "output_type": "execute_result"
    }
   ],
   "source": [
    "p.name"
   ]
  },
  {
   "cell_type": "code",
   "execution_count": 23,
   "id": "1f882c05",
   "metadata": {},
   "outputs": [
    {
     "data": {
      "text/plain": [
       "90"
      ]
     },
     "execution_count": 23,
     "metadata": {},
     "output_type": "execute_result"
    }
   ],
   "source": [
    "p.age"
   ]
  },
  {
   "cell_type": "code",
   "execution_count": 24,
   "id": "c43cea34",
   "metadata": {},
   "outputs": [
    {
     "data": {
      "text/plain": [
       "67"
      ]
     },
     "execution_count": 24,
     "metadata": {},
     "output_type": "execute_result"
    }
   ],
   "source": [
    "# pc to child\n",
    "class gpc:\n",
    "    def __init__(self,name):\n",
    "        self.name = name\n",
    "    \n",
    "class pc:\n",
    "    def __init__(self,age):\n",
    "        self.age = age\n",
    "    \n",
    "class cc:\n",
    "    def __init__(self,age,marks):\n",
    "        pc.__init__(self,age)\n",
    "        self.marks = marks\n",
    "        \n",
    "        \n",
    "p = cc(90,67)\n",
    "p.marks"
   ]
  },
  {
   "cell_type": "code",
   "execution_count": 25,
   "id": "9693c75b",
   "metadata": {},
   "outputs": [
    {
     "data": {
      "text/plain": [
       "90"
      ]
     },
     "execution_count": 25,
     "metadata": {},
     "output_type": "execute_result"
    }
   ],
   "source": [
    "p.age"
   ]
  },
  {
   "cell_type": "code",
   "execution_count": 27,
   "id": "c88e340b",
   "metadata": {},
   "outputs": [],
   "source": [
    "# gpc to child\n",
    "class gpc:\n",
    "    def __init__(self,name):\n",
    "        self.name = name\n",
    "    \n",
    "class pc:\n",
    "    def __init__(self,age):\n",
    "        self.age = age\n",
    "    \n",
    "class cc(gpc):\n",
    "    def __init__(self,name,marks):\n",
    "        gpc.__init__(self,name)\n",
    "        self.marks = marks\n",
    "        \n",
    "        \n",
    "p = cc('a',90)"
   ]
  },
  {
   "cell_type": "code",
   "execution_count": 28,
   "id": "f86c0fe4",
   "metadata": {},
   "outputs": [
    {
     "data": {
      "text/plain": [
       "'a'"
      ]
     },
     "execution_count": 28,
     "metadata": {},
     "output_type": "execute_result"
    }
   ],
   "source": [
    "p.name"
   ]
  },
  {
   "cell_type": "code",
   "execution_count": 29,
   "id": "607f6583",
   "metadata": {},
   "outputs": [
    {
     "data": {
      "text/plain": [
       "90"
      ]
     },
     "execution_count": 29,
     "metadata": {},
     "output_type": "execute_result"
    }
   ],
   "source": [
    "p.marks"
   ]
  },
  {
   "cell_type": "code",
   "execution_count": 31,
   "id": "da07beb7",
   "metadata": {},
   "outputs": [],
   "source": [
    "# gpc to pc to child\n",
    "class gpc:\n",
    "    def __init__(self,name):\n",
    "        self.name = name\n",
    "    \n",
    "class pc(gpc):\n",
    "    def __init__(self,name,age):\n",
    "        gpc.__init__(self,name)\n",
    "        self.age = age\n",
    "    \n",
    "class cc(pc):\n",
    "    def __init__(self,name,age,marks):\n",
    "        pc.__init__(self,name,age)\n",
    "        self.marks = marks\n",
    "        \n",
    "c = cc('pyhton',9000,12)"
   ]
  },
  {
   "cell_type": "code",
   "execution_count": 32,
   "id": "98c24fde",
   "metadata": {},
   "outputs": [
    {
     "data": {
      "text/plain": [
       "'pyhton'"
      ]
     },
     "execution_count": 32,
     "metadata": {},
     "output_type": "execute_result"
    }
   ],
   "source": [
    "c.name"
   ]
  },
  {
   "cell_type": "code",
   "execution_count": 33,
   "id": "f974160a",
   "metadata": {},
   "outputs": [
    {
     "data": {
      "text/plain": [
       "9000"
      ]
     },
     "execution_count": 33,
     "metadata": {},
     "output_type": "execute_result"
    }
   ],
   "source": [
    "c.age"
   ]
  },
  {
   "cell_type": "code",
   "execution_count": 34,
   "id": "e15f124f",
   "metadata": {},
   "outputs": [
    {
     "data": {
      "text/plain": [
       "12"
      ]
     },
     "execution_count": 34,
     "metadata": {},
     "output_type": "execute_result"
    }
   ],
   "source": [
    "c.marks"
   ]
  },
  {
   "cell_type": "code",
   "execution_count": null,
   "id": "fd533e1d",
   "metadata": {},
   "outputs": [],
   "source": []
  }
 ],
 "metadata": {
  "kernelspec": {
   "display_name": "Python 3 (ipykernel)",
   "language": "python",
   "name": "python3"
  },
  "language_info": {
   "codemirror_mode": {
    "name": "ipython",
    "version": 3
   },
   "file_extension": ".py",
   "mimetype": "text/x-python",
   "name": "python",
   "nbconvert_exporter": "python",
   "pygments_lexer": "ipython3",
   "version": "3.9.7"
  }
 },
 "nbformat": 4,
 "nbformat_minor": 5
}
