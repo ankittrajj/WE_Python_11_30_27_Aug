{
 "cells": [
  {
   "cell_type": "code",
   "execution_count": 4,
   "id": "9cf7a895",
   "metadata": {},
   "outputs": [
    {
     "name": "stdout",
     "output_type": "stream",
     "text": [
      "Odd num--------> 1\n",
      "Even Num 2\n",
      "Odd num--------> 3\n",
      "Even Num 4\n",
      "Odd num--------> 5\n",
      "Even Num 6\n",
      "Odd num--------> 7\n",
      "Even Num 8\n",
      "Odd num--------> 9\n",
      "Even Num 10\n",
      "Odd num--------> 11\n",
      "Even Num 12\n",
      "Odd num--------> 13\n",
      "Even Num 14\n",
      "Odd num--------> 15\n",
      "Even Num 16\n",
      "Odd num--------> 17\n",
      "Even Num 18\n",
      "Odd num--------> 19\n",
      "Even Num 20\n",
      "Odd num--------> 21\n",
      "Even Num 22\n",
      "Odd num--------> 23\n",
      "Even Num 24\n",
      "Odd num--------> 25\n",
      "Even Num 26\n",
      "Odd num--------> 27\n",
      "Even Num 28\n",
      "Odd num--------> 29\n",
      "Even Num 30\n",
      "Odd num--------> 31\n",
      "Even Num 32\n",
      "Odd num--------> 33\n",
      "Even Num 34\n",
      "Odd num--------> 35\n",
      "Even Num 36\n",
      "Odd num--------> 37\n",
      "Even Num 38\n",
      "Odd num--------> 39\n",
      "Even Num 40\n",
      "Odd num--------> 41\n",
      "Even Num 42\n",
      "Odd num--------> 43\n",
      "Even Num 44\n",
      "Odd num--------> 45\n",
      "Even Num 46\n",
      "Odd num--------> 47\n",
      "Even Num 48\n",
      "Odd num--------> 49\n",
      "Even Num 50\n"
     ]
    }
   ],
   "source": [
    "# 1-50 \n",
    "\n",
    "for i in range(1,51):\n",
    "    if i % 2 == 0 :\n",
    "        print(\"Even Num\",i)\n",
    "    else:\n",
    "        print(\"Odd num-------->\",i)\n",
    "        \n"
   ]
  },
  {
   "cell_type": "code",
   "execution_count": 12,
   "id": "f9d3ce5e",
   "metadata": {},
   "outputs": [
    {
     "name": "stdout",
     "output_type": "stream",
     "text": [
      "Not divisible\n",
      "Not divisible\n",
      "Not divisible\n",
      "Not divisible\n",
      "Not divisible\n",
      "Not divisible\n",
      "Divisible 92\n"
     ]
    }
   ],
   "source": [
    "a = [(34,78,90,67,41,85,92)]\n",
    "num= 4\n",
    "for i in a:\n",
    "    for j in i:\n",
    "        if j % num == 0:\n",
    "            print(\"Divisible\",j)\n",
    "        else:\n",
    "            print(\"Not divisible\")"
   ]
  },
  {
   "cell_type": "code",
   "execution_count": 13,
   "id": "a35adc1c",
   "metadata": {},
   "outputs": [],
   "source": [
    "x = (1,1,2,3,1,4)\n",
    "y = list (x)"
   ]
  },
  {
   "cell_type": "code",
   "execution_count": 14,
   "id": "d24ee710",
   "metadata": {},
   "outputs": [
    {
     "data": {
      "text/plain": [
       "1"
      ]
     },
     "execution_count": 14,
     "metadata": {},
     "output_type": "execute_result"
    }
   ],
   "source": [
    "y.pop(1)"
   ]
  },
  {
   "cell_type": "code",
   "execution_count": 15,
   "id": "4b46a142",
   "metadata": {},
   "outputs": [
    {
     "data": {
      "text/plain": [
       "[1, 2, 3, 1, 4]"
      ]
     },
     "execution_count": 15,
     "metadata": {},
     "output_type": "execute_result"
    }
   ],
   "source": [
    "y"
   ]
  },
  {
   "cell_type": "code",
   "execution_count": 16,
   "id": "c388b13a",
   "metadata": {},
   "outputs": [],
   "source": [
    "y.remove(1)"
   ]
  },
  {
   "cell_type": "code",
   "execution_count": 17,
   "id": "206df5de",
   "metadata": {},
   "outputs": [
    {
     "data": {
      "text/plain": [
       "[2, 3, 1, 4]"
      ]
     },
     "execution_count": 17,
     "metadata": {},
     "output_type": "execute_result"
    }
   ],
   "source": [
    "y"
   ]
  },
  {
   "cell_type": "code",
   "execution_count": 19,
   "id": "dfdfa5d3",
   "metadata": {},
   "outputs": [
    {
     "name": "stdout",
     "output_type": "stream",
     "text": [
      "(1, 1, 2, 3, 1, 4)\n",
      "(1, 1, 2, 3, 1, 4)\n",
      "(1, 1, 2, 3, 1, 4)\n",
      "(1, 1, 2, 3, 1, 4)\n",
      "(1, 1, 2, 3, 1, 4)\n"
     ]
    },
    {
     "ename": "IndexError",
     "evalue": "pop index out of range",
     "output_type": "error",
     "traceback": [
      "\u001b[1;31m---------------------------------------------------------------------------\u001b[0m",
      "\u001b[1;31mIndexError\u001b[0m                                Traceback (most recent call last)",
      "\u001b[1;32m~\\AppData\\Local\\Temp/ipykernel_6956/3827205482.py\u001b[0m in \u001b[0;36m<module>\u001b[1;34m\u001b[0m\n\u001b[0;32m      4\u001b[0m     \u001b[1;32mfor\u001b[0m \u001b[0mj\u001b[0m \u001b[1;32min\u001b[0m \u001b[0mrange\u001b[0m \u001b[1;33m(\u001b[0m\u001b[0mlen\u001b[0m\u001b[1;33m(\u001b[0m\u001b[0mx\u001b[0m\u001b[1;33m)\u001b[0m\u001b[1;33m)\u001b[0m\u001b[1;33m:\u001b[0m\u001b[1;33m\u001b[0m\u001b[1;33m\u001b[0m\u001b[0m\n\u001b[0;32m      5\u001b[0m         \u001b[1;32mif\u001b[0m \u001b[0mx\u001b[0m\u001b[1;33m[\u001b[0m\u001b[0mi\u001b[0m\u001b[1;33m]\u001b[0m\u001b[1;33m==\u001b[0m\u001b[0mx\u001b[0m\u001b[1;33m[\u001b[0m\u001b[0mj\u001b[0m\u001b[1;33m]\u001b[0m \u001b[1;32mand\u001b[0m \u001b[0mi\u001b[0m \u001b[1;33m!=\u001b[0m  \u001b[0mj\u001b[0m\u001b[1;33m:\u001b[0m\u001b[1;33m\u001b[0m\u001b[1;33m\u001b[0m\u001b[0m\n\u001b[1;32m----> 6\u001b[1;33m             \u001b[0mX\u001b[0m\u001b[1;33m.\u001b[0m\u001b[0mpop\u001b[0m\u001b[1;33m(\u001b[0m\u001b[0mx\u001b[0m\u001b[1;33m[\u001b[0m\u001b[0mj\u001b[0m\u001b[1;33m]\u001b[0m\u001b[1;33m)\u001b[0m\u001b[1;33m\u001b[0m\u001b[1;33m\u001b[0m\u001b[0m\n\u001b[0m\u001b[0;32m      7\u001b[0m             \u001b[0mprint\u001b[0m\u001b[1;33m(\u001b[0m\u001b[0mx\u001b[0m\u001b[1;33m)\u001b[0m\u001b[1;33m\u001b[0m\u001b[1;33m\u001b[0m\u001b[0m\n",
      "\u001b[1;31mIndexError\u001b[0m: pop index out of range"
     ]
    }
   ],
   "source": [
    "X=(2,3,4,2,4,6)\n",
    "X=list(X)\n",
    "for i in range (len(x)):\n",
    "    for j in range (len(x)):\n",
    "        if x[i]==x[j] and i !=  j:\n",
    "            X.pop(x[j])\n",
    "            print(x)"
   ]
  },
  {
   "cell_type": "code",
   "execution_count": 20,
   "id": "dd20ca2b",
   "metadata": {},
   "outputs": [],
   "source": [
    "a = (2,4,6,2,4,3)\n",
    "x = list(a)"
   ]
  },
  {
   "cell_type": "code",
   "execution_count": 21,
   "id": "0d83fa04",
   "metadata": {},
   "outputs": [
    {
     "data": {
      "text/plain": [
       "[2, 4, 6, 2, 4, 3]"
      ]
     },
     "execution_count": 21,
     "metadata": {},
     "output_type": "execute_result"
    }
   ],
   "source": [
    "x"
   ]
  },
  {
   "cell_type": "code",
   "execution_count": 27,
   "id": "f314f1a4",
   "metadata": {},
   "outputs": [
    {
     "ename": "ValueError",
     "evalue": "list.remove(x): x not in list",
     "output_type": "error",
     "traceback": [
      "\u001b[1;31m---------------------------------------------------------------------------\u001b[0m",
      "\u001b[1;31mValueError\u001b[0m                                Traceback (most recent call last)",
      "\u001b[1;32m~\\AppData\\Local\\Temp/ipykernel_6956/1619948730.py\u001b[0m in \u001b[0;36m<module>\u001b[1;34m\u001b[0m\n\u001b[0;32m      1\u001b[0m \u001b[1;32mfor\u001b[0m \u001b[0mi\u001b[0m \u001b[1;32min\u001b[0m \u001b[0mrange\u001b[0m\u001b[1;33m(\u001b[0m\u001b[0mlen\u001b[0m\u001b[1;33m(\u001b[0m\u001b[0mx\u001b[0m\u001b[1;33m)\u001b[0m\u001b[1;33m-\u001b[0m\u001b[1;36m1\u001b[0m\u001b[1;33m)\u001b[0m\u001b[1;33m:\u001b[0m\u001b[1;33m\u001b[0m\u001b[1;33m\u001b[0m\u001b[0m\n\u001b[1;32m----> 2\u001b[1;33m     \u001b[0mx\u001b[0m\u001b[1;33m.\u001b[0m\u001b[0mremove\u001b[0m\u001b[1;33m(\u001b[0m\u001b[1;36m4\u001b[0m\u001b[1;33m)\u001b[0m\u001b[1;33m\u001b[0m\u001b[1;33m\u001b[0m\u001b[0m\n\u001b[0m",
      "\u001b[1;31mValueError\u001b[0m: list.remove(x): x not in list"
     ]
    }
   ],
   "source": [
    "for i in range(len(x)-1):\n",
    "    x.remove(4)"
   ]
  },
  {
   "cell_type": "code",
   "execution_count": 52,
   "id": "55adb87f",
   "metadata": {},
   "outputs": [],
   "source": [
    "x = (1,3,5,2,3,5,1,1,3,7,9,45,34,9,456,45)\n",
    "y = []\n",
    "for i in x:\n",
    "    if i not in y:\n",
    "        y.append(i)\n",
    "        \n",
    "        "
   ]
  },
  {
   "cell_type": "code",
   "execution_count": 53,
   "id": "bd1280a1",
   "metadata": {},
   "outputs": [],
   "source": [
    "res = tuple(y)"
   ]
  },
  {
   "cell_type": "code",
   "execution_count": 54,
   "id": "2c564e87",
   "metadata": {},
   "outputs": [
    {
     "name": "stdout",
     "output_type": "stream",
     "text": [
      "(1, 3, 5, 2, 7, 9, 45, 34, 456)\n"
     ]
    }
   ],
   "source": [
    "print(res)"
   ]
  },
  {
   "cell_type": "code",
   "execution_count": null,
   "id": "9deeed8b",
   "metadata": {},
   "outputs": [],
   "source": [
    "x = (1,2,3,4)\n",
    "for i in x:"
   ]
  }
 ],
 "metadata": {
  "kernelspec": {
   "display_name": "Python 3 (ipykernel)",
   "language": "python",
   "name": "python3"
  },
  "language_info": {
   "codemirror_mode": {
    "name": "ipython",
    "version": 3
   },
   "file_extension": ".py",
   "mimetype": "text/x-python",
   "name": "python",
   "nbconvert_exporter": "python",
   "pygments_lexer": "ipython3",
   "version": "3.9.7"
  }
 },
 "nbformat": 4,
 "nbformat_minor": 5
}
