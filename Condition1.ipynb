{
 "cells": [
  {
   "cell_type": "code",
   "execution_count": 1,
   "id": "15d6e1ae",
   "metadata": {},
   "outputs": [],
   "source": [
    "#we found the child and try to detrmin the age of the child with the help of \n",
    "# machine code(python) either this child is 18+ or 18- or i can say major\n",
    "# or minor.\n",
    "# 18+ ----- > major\n",
    "# 18- ------> minor\n",
    "\n",
    "age = 23"
   ]
  },
  {
   "cell_type": "code",
   "execution_count": 9,
   "id": "d93cbe2b",
   "metadata": {},
   "outputs": [
    {
     "name": "stdout",
     "output_type": "stream",
     "text": [
      "Enter your age15\n",
      "Minor\n"
     ]
    }
   ],
   "source": [
    "# Syntax\n",
    "\n",
    "# if condition(True/false):\n",
    "#     print the msg\n",
    "\n",
    "age = int(input(\"Enter your age\"))\n",
    "\n",
    "if age>18:\n",
    "    print(\"Major\")\n",
    "else:\n",
    "    print('Minor')"
   ]
  },
  {
   "cell_type": "code",
   "execution_count": 14,
   "id": "667c28f2",
   "metadata": {},
   "outputs": [
    {
     "name": "stdout",
     "output_type": "stream",
     "text": [
      "Enter the number0\n",
      "Even\n"
     ]
    }
   ],
   "source": [
    "#wap to find odd & even number.\n",
    "\n",
    "a = int(input(\"Enter the number\"))\n",
    "if a%2==0:\n",
    "    print(\"Even\")\n",
    "else:\n",
    "    print(\"Odd\")"
   ]
  },
  {
   "cell_type": "code",
   "execution_count": 18,
   "id": "b3f07e8a",
   "metadata": {},
   "outputs": [
    {
     "name": "stdout",
     "output_type": "stream",
     "text": [
      "Enter the first number-7\n",
      "Enter the second number0\n",
      "B\n"
     ]
    }
   ],
   "source": [
    "#wap to find the max number between two numbers.\n",
    "#wap to find the max number between three numbers.\n",
    "\n",
    "a = int(input(\"Enter the first number\"))\n",
    "b = int(input(\"Enter the second number\"))\n",
    "\n",
    "if a>b:\n",
    "    print(\"A\")\n",
    "else:\n",
    "    print(\"B\")\n"
   ]
  },
  {
   "cell_type": "code",
   "execution_count": 23,
   "id": "95370b38",
   "metadata": {},
   "outputs": [
    {
     "name": "stdout",
     "output_type": "stream",
     "text": [
      "3.142857142857143\n",
      "3.05\n"
     ]
    }
   ],
   "source": [
    "a = 3.14\n",
    "b = 3.05\n",
    "c = 22/7\n",
    "\n",
    "if a>b and  a>c:\n",
    "    print(a)\n",
    "elif b>a and b>c:\n",
    "    print(b)\n",
    "elif c>a and c>b:\n",
    "    print(c)\n",
    "    \n",
    "if a<b and  a<c:\n",
    "    print(a)\n",
    "elif b<a and b<c:\n",
    "    print(b)\n",
    "elif c<a and c<b:\n",
    "    print(c)\n",
    "\n",
    "    \n"
   ]
  },
  {
   "cell_type": "code",
   "execution_count": 24,
   "id": "a511c25c",
   "metadata": {},
   "outputs": [
    {
     "name": "stdout",
     "output_type": "stream",
     "text": [
      "hello amar!!\n"
     ]
    }
   ],
   "source": [
    "print('hello amar!!')"
   ]
  },
  {
   "cell_type": "code",
   "execution_count": null,
   "id": "fde6f1d6",
   "metadata": {},
   "outputs": [],
   "source": []
  }
 ],
 "metadata": {
  "kernelspec": {
   "display_name": "Python 3 (ipykernel)",
   "language": "python",
   "name": "python3"
  },
  "language_info": {
   "codemirror_mode": {
    "name": "ipython",
    "version": 3
   },
   "file_extension": ".py",
   "mimetype": "text/x-python",
   "name": "python",
   "nbconvert_exporter": "python",
   "pygments_lexer": "ipython3",
   "version": "3.9.7"
  }
 },
 "nbformat": 4,
 "nbformat_minor": 5
}
