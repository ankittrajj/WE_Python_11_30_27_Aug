{
 "cells": [
  {
   "cell_type": "markdown",
   "id": "141a4d07",
   "metadata": {},
   "source": [
    "# List"
   ]
  },
  {
   "cell_type": "code",
   "execution_count": 1,
   "id": "6c232dc2",
   "metadata": {},
   "outputs": [],
   "source": [
    "x = [90,45,67]"
   ]
  },
  {
   "cell_type": "code",
   "execution_count": 2,
   "id": "7b1cbaf8",
   "metadata": {},
   "outputs": [
    {
     "name": "stdout",
     "output_type": "stream",
     "text": [
      "[90, 45, 67]\n"
     ]
    }
   ],
   "source": [
    "print(x)"
   ]
  },
  {
   "cell_type": "code",
   "execution_count": 3,
   "id": "1b23c6f5",
   "metadata": {},
   "outputs": [
    {
     "data": {
      "text/plain": [
       "list"
      ]
     },
     "execution_count": 3,
     "metadata": {},
     "output_type": "execute_result"
    }
   ],
   "source": [
    "type(x)"
   ]
  },
  {
   "cell_type": "code",
   "execution_count": 4,
   "id": "615a0c42",
   "metadata": {},
   "outputs": [],
   "source": [
    "x = [78,90,-45,'Python','SQL',True,45.908,34.5,45+6j]"
   ]
  },
  {
   "cell_type": "code",
   "execution_count": 5,
   "id": "379b06d9",
   "metadata": {},
   "outputs": [
    {
     "name": "stdout",
     "output_type": "stream",
     "text": [
      "[78, 90, -45, 'Python', 'SQL', True, 45.908, 34.5, (45+6j)]\n"
     ]
    }
   ],
   "source": [
    "print(x)"
   ]
  },
  {
   "cell_type": "code",
   "execution_count": 6,
   "id": "083aecfd",
   "metadata": {},
   "outputs": [
    {
     "data": {
      "text/plain": [
       "list"
      ]
     },
     "execution_count": 6,
     "metadata": {},
     "output_type": "execute_result"
    }
   ],
   "source": [
    "type(x)"
   ]
  },
  {
   "cell_type": "code",
   "execution_count": 7,
   "id": "e76e0631",
   "metadata": {},
   "outputs": [
    {
     "data": {
      "text/plain": [
       "[78, 90, -45, 'Python', 'SQL', True, 45.908, 34.5, (45+6j)]"
      ]
     },
     "execution_count": 7,
     "metadata": {},
     "output_type": "execute_result"
    }
   ],
   "source": [
    "#slicing & indexing\n",
    "\n",
    "x"
   ]
  },
  {
   "cell_type": "code",
   "execution_count": 8,
   "id": "53c307c8",
   "metadata": {},
   "outputs": [
    {
     "data": {
      "text/plain": [
       "78"
      ]
     },
     "execution_count": 8,
     "metadata": {},
     "output_type": "execute_result"
    }
   ],
   "source": [
    "x[0]"
   ]
  },
  {
   "cell_type": "code",
   "execution_count": 9,
   "id": "25503488",
   "metadata": {},
   "outputs": [
    {
     "data": {
      "text/plain": [
       "45.908"
      ]
     },
     "execution_count": 9,
     "metadata": {},
     "output_type": "execute_result"
    }
   ],
   "source": [
    "x[-3]"
   ]
  },
  {
   "cell_type": "code",
   "execution_count": 21,
   "id": "de296228",
   "metadata": {},
   "outputs": [
    {
     "data": {
      "text/plain": [
       "['Python', 'SQL', True, 45.908]"
      ]
     },
     "execution_count": 21,
     "metadata": {},
     "output_type": "execute_result"
    }
   ],
   "source": [
    "x[3:7]"
   ]
  },
  {
   "cell_type": "code",
   "execution_count": 23,
   "id": "16ef35d4",
   "metadata": {},
   "outputs": [],
   "source": [
    "# Mutable & Immutable ------ > \n",
    "\n",
    "x[0] = 12"
   ]
  },
  {
   "cell_type": "code",
   "execution_count": 24,
   "id": "a509c828",
   "metadata": {},
   "outputs": [
    {
     "data": {
      "text/plain": [
       "[12, 90, -45, 'Python', 'SQL', True, 45.908, 34.5, (45+6j)]"
      ]
     },
     "execution_count": 24,
     "metadata": {},
     "output_type": "execute_result"
    }
   ],
   "source": [
    "x"
   ]
  },
  {
   "cell_type": "code",
   "execution_count": null,
   "id": "5a274c2f",
   "metadata": {},
   "outputs": [],
   "source": [
    "# index\n",
    "# ordered way\n",
    "# mutable\n",
    "# duplicacy allowed"
   ]
  },
  {
   "cell_type": "code",
   "execution_count": null,
   "id": "e989857f",
   "metadata": {},
   "outputs": [],
   "source": []
  },
  {
   "cell_type": "code",
   "execution_count": null,
   "id": "f58ccdc0",
   "metadata": {},
   "outputs": [],
   "source": []
  }
 ],
 "metadata": {
  "kernelspec": {
   "display_name": "Python 3 (ipykernel)",
   "language": "python",
   "name": "python3"
  },
  "language_info": {
   "codemirror_mode": {
    "name": "ipython",
    "version": 3
   },
   "file_extension": ".py",
   "mimetype": "text/x-python",
   "name": "python",
   "nbconvert_exporter": "python",
   "pygments_lexer": "ipython3",
   "version": "3.9.7"
  }
 },
 "nbformat": 4,
 "nbformat_minor": 5
}
