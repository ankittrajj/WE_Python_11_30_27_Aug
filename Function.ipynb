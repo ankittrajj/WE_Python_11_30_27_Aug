{
 "cells": [
  {
   "cell_type": "code",
   "execution_count": 1,
   "id": "0aeea34c",
   "metadata": {},
   "outputs": [],
   "source": [
    "def greet():\n",
    "    print(\"hello\")"
   ]
  },
  {
   "cell_type": "code",
   "execution_count": 2,
   "id": "df6e1d45",
   "metadata": {},
   "outputs": [
    {
     "name": "stdout",
     "output_type": "stream",
     "text": [
      "hello\n"
     ]
    }
   ],
   "source": [
    "greet()"
   ]
  },
  {
   "cell_type": "code",
   "execution_count": 3,
   "id": "f5d7d8f6",
   "metadata": {},
   "outputs": [
    {
     "name": "stdout",
     "output_type": "stream",
     "text": [
      "hello\n"
     ]
    }
   ],
   "source": [
    "#wap to print goodbye with the help of function.\n",
    "greet()"
   ]
  },
  {
   "cell_type": "code",
   "execution_count": 6,
   "id": "60c548bd",
   "metadata": {},
   "outputs": [],
   "source": [
    "#wap to add two numbers with the help of function."
   ]
  },
  {
   "cell_type": "code",
   "execution_count": 8,
   "id": "9f737c2e",
   "metadata": {},
   "outputs": [],
   "source": [
    "# NO arg no return type\n",
    "\n",
    "def add():\n",
    "    a = 9 \n",
    "    b = 1\n",
    "    c = a+b\n",
    "    print(c)"
   ]
  },
  {
   "cell_type": "code",
   "execution_count": 9,
   "id": "3cfaf75f",
   "metadata": {},
   "outputs": [
    {
     "name": "stdout",
     "output_type": "stream",
     "text": [
      "10\n"
     ]
    }
   ],
   "source": [
    "add()"
   ]
  },
  {
   "cell_type": "code",
   "execution_count": 10,
   "id": "2e6e1d63",
   "metadata": {},
   "outputs": [],
   "source": [
    "# with arg no return\n",
    "\n",
    "def fun(x,y):\n",
    "    z = x+y\n",
    "    print(z)\n",
    "    "
   ]
  },
  {
   "cell_type": "code",
   "execution_count": 13,
   "id": "80287307",
   "metadata": {},
   "outputs": [
    {
     "name": "stdout",
     "output_type": "stream",
     "text": [
      "30\n"
     ]
    }
   ],
   "source": [
    "fun(10,20)"
   ]
  },
  {
   "cell_type": "code",
   "execution_count": 14,
   "id": "e581d7e4",
   "metadata": {},
   "outputs": [],
   "source": [
    "#with arg with return\n",
    "def add(a,b):\n",
    "    c = a+b\n",
    "    return c\n",
    "\n"
   ]
  },
  {
   "cell_type": "code",
   "execution_count": 15,
   "id": "78be8c59",
   "metadata": {},
   "outputs": [
    {
     "data": {
      "text/plain": [
       "123"
      ]
     },
     "execution_count": 15,
     "metadata": {},
     "output_type": "execute_result"
    }
   ],
   "source": [
    "add(34,89)"
   ]
  },
  {
   "cell_type": "code",
   "execution_count": null,
   "id": "12c4cbf1",
   "metadata": {},
   "outputs": [],
   "source": [
    "#without arg with return\n",
    " "
   ]
  },
  {
   "cell_type": "code",
   "execution_count": null,
   "id": "60690c17",
   "metadata": {},
   "outputs": [],
   "source": []
  },
  {
   "cell_type": "code",
   "execution_count": null,
   "id": "cadbd323",
   "metadata": {},
   "outputs": [],
   "source": []
  },
  {
   "cell_type": "code",
   "execution_count": null,
   "id": "aff7486c",
   "metadata": {},
   "outputs": [],
   "source": []
  },
  {
   "cell_type": "code",
   "execution_count": null,
   "id": "3dbf1eb5",
   "metadata": {},
   "outputs": [],
   "source": []
  },
  {
   "cell_type": "code",
   "execution_count": 5,
   "id": "f8f2235f",
   "metadata": {},
   "outputs": [
    {
     "name": "stdout",
     "output_type": "stream",
     "text": [
      "hello\n"
     ]
    }
   ],
   "source": [
    "greet()"
   ]
  },
  {
   "cell_type": "code",
   "execution_count": null,
   "id": "b657fee3",
   "metadata": {},
   "outputs": [],
   "source": []
  }
 ],
 "metadata": {
  "kernelspec": {
   "display_name": "Python 3 (ipykernel)",
   "language": "python",
   "name": "python3"
  },
  "language_info": {
   "codemirror_mode": {
    "name": "ipython",
    "version": 3
   },
   "file_extension": ".py",
   "mimetype": "text/x-python",
   "name": "python",
   "nbconvert_exporter": "python",
   "pygments_lexer": "ipython3",
   "version": "3.9.7"
  }
 },
 "nbformat": 4,
 "nbformat_minor": 5
}
