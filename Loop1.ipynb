{
 "cells": [
  {
   "cell_type": "code",
   "execution_count": 3,
   "id": "bf6c534c",
   "metadata": {},
   "outputs": [
    {
     "name": "stdout",
     "output_type": "stream",
     "text": [
      "0\n",
      "1\n",
      "2\n",
      "3\n",
      "4\n",
      "5\n",
      "6\n",
      "7\n",
      "8\n",
      "9\n"
     ]
    }
   ],
   "source": [
    "# for loop  ------ > when we know the number iteration/repeatation.\n",
    "\n",
    "\n",
    "#wap to print from 0-10.\n",
    "\n",
    "# syntax----> for var in range_function(define the range):\n",
    "#                     print(variable)\n",
    "\n",
    "\n",
    "for i in range(10):\n",
    "    print(i)"
   ]
  },
  {
   "cell_type": "code",
   "execution_count": 4,
   "id": "ef228ee2",
   "metadata": {},
   "outputs": [
    {
     "name": "stdout",
     "output_type": "stream",
     "text": [
      "0\n",
      "1\n",
      "2\n",
      "3\n",
      "4\n",
      "5\n",
      "6\n",
      "7\n",
      "8\n",
      "9\n",
      "10\n",
      "11\n",
      "12\n",
      "13\n",
      "14\n",
      "15\n",
      "16\n",
      "17\n",
      "18\n",
      "19\n",
      "20\n",
      "21\n",
      "22\n",
      "23\n",
      "24\n",
      "25\n",
      "26\n",
      "27\n",
      "28\n",
      "29\n",
      "30\n",
      "31\n",
      "32\n",
      "33\n",
      "34\n",
      "35\n",
      "36\n",
      "37\n",
      "38\n",
      "39\n",
      "40\n",
      "41\n",
      "42\n",
      "43\n",
      "44\n",
      "45\n",
      "46\n",
      "47\n",
      "48\n",
      "49\n"
     ]
    }
   ],
   "source": [
    "for i in range(50):\n",
    "    print(i)"
   ]
  },
  {
   "cell_type": "code",
   "execution_count": 5,
   "id": "ca7d69d3",
   "metadata": {},
   "outputs": [
    {
     "name": "stdout",
     "output_type": "stream",
     "text": [
      "10\n",
      "11\n",
      "12\n",
      "13\n",
      "14\n",
      "15\n",
      "16\n",
      "17\n",
      "18\n",
      "19\n",
      "20\n",
      "21\n",
      "22\n",
      "23\n",
      "24\n",
      "25\n",
      "26\n",
      "27\n",
      "28\n",
      "29\n",
      "30\n",
      "31\n",
      "32\n",
      "33\n",
      "34\n",
      "35\n",
      "36\n",
      "37\n",
      "38\n",
      "39\n",
      "40\n"
     ]
    }
   ],
   "source": [
    "for i in range(10,41):\n",
    "    print(i)"
   ]
  },
  {
   "cell_type": "code",
   "execution_count": 13,
   "id": "174b1d80",
   "metadata": {},
   "outputs": [
    {
     "ename": "ValueError",
     "evalue": "range() arg 3 must not be zero",
     "output_type": "error",
     "traceback": [
      "\u001b[1;31m---------------------------------------------------------------------------\u001b[0m",
      "\u001b[1;31mValueError\u001b[0m                                Traceback (most recent call last)",
      "\u001b[1;32m~\\AppData\\Local\\Temp/ipykernel_1924/434235688.py\u001b[0m in \u001b[0;36m<module>\u001b[1;34m\u001b[0m\n\u001b[0;32m      2\u001b[0m \u001b[1;31m# 10,30.\u001b[0m\u001b[1;33m\u001b[0m\u001b[1;33m\u001b[0m\u001b[0m\n\u001b[0;32m      3\u001b[0m \u001b[1;33m\u001b[0m\u001b[0m\n\u001b[1;32m----> 4\u001b[1;33m \u001b[1;32mfor\u001b[0m \u001b[0mi\u001b[0m \u001b[1;32min\u001b[0m \u001b[0mrange\u001b[0m\u001b[1;33m(\u001b[0m\u001b[1;36m10\u001b[0m\u001b[1;33m,\u001b[0m\u001b[1;36m310\u001b[0m\u001b[1;33m,\u001b[0m\u001b[1;36m0\u001b[0m\u001b[1;33m)\u001b[0m\u001b[1;33m:\u001b[0m\u001b[1;33m\u001b[0m\u001b[1;33m\u001b[0m\u001b[0m\n\u001b[0m\u001b[0;32m      5\u001b[0m     \u001b[0mprint\u001b[0m\u001b[1;33m(\u001b[0m\u001b[0mi\u001b[0m\u001b[1;33m)\u001b[0m\u001b[1;33m\u001b[0m\u001b[1;33m\u001b[0m\u001b[0m\n",
      "\u001b[1;31mValueError\u001b[0m: range() arg 3 must not be zero"
     ]
    }
   ],
   "source": [
    "#wap to print alternate numbers in loop.\n",
    "# 10,30.\n",
    "\n",
    "for i in range(10,310,0):\n",
    "    print(i)"
   ]
  },
  {
   "cell_type": "code",
   "execution_count": 14,
   "id": "e60c1472",
   "metadata": {},
   "outputs": [
    {
     "name": "stdout",
     "output_type": "stream",
     "text": [
      "1\n",
      "2\n",
      "3\n",
      "4\n",
      "5\n",
      "6\n",
      "7\n",
      "8\n",
      "9\n",
      "10\n"
     ]
    }
   ],
   "source": [
    "#wap to print number from 1-10.\n",
    "#wap to print number from -1to-10.\n",
    "#wap to print number from  -1 to 10.\n",
    "#wap to print number from -10 to 1.\n",
    "\n",
    "\n",
    "for i in range(1,11):\n",
    "    print(i)"
   ]
  },
  {
   "cell_type": "code",
   "execution_count": 17,
   "id": "bc85953d",
   "metadata": {},
   "outputs": [
    {
     "name": "stdout",
     "output_type": "stream",
     "text": [
      "-1\n",
      "-2\n",
      "-3\n",
      "-4\n",
      "-5\n",
      "-6\n",
      "-7\n",
      "-8\n",
      "-9\n",
      "-10\n"
     ]
    }
   ],
   "source": [
    "for i in range(-1,-11,-1):\n",
    "    print(i)"
   ]
  },
  {
   "cell_type": "code",
   "execution_count": 19,
   "id": "d68f30ae",
   "metadata": {},
   "outputs": [
    {
     "name": "stdout",
     "output_type": "stream",
     "text": [
      "-1\n",
      "0\n",
      "1\n",
      "2\n",
      "3\n",
      "4\n",
      "5\n",
      "6\n",
      "7\n",
      "8\n",
      "9\n",
      "10\n"
     ]
    }
   ],
   "source": [
    "for i in range(-1,11):\n",
    "    print(i)"
   ]
  },
  {
   "cell_type": "code",
   "execution_count": 21,
   "id": "8f478d6b",
   "metadata": {},
   "outputs": [
    {
     "name": "stdout",
     "output_type": "stream",
     "text": [
      "-10\n",
      "-9\n",
      "-8\n",
      "-7\n",
      "-6\n",
      "-5\n",
      "-4\n",
      "-3\n",
      "-2\n",
      "-1\n",
      "0\n",
      "1\n"
     ]
    }
   ],
   "source": [
    "# -10 to 1\n",
    "\n",
    "for i in range(-10,2):\n",
    "    print(i)"
   ]
  },
  {
   "cell_type": "code",
   "execution_count": 27,
   "id": "26e2f2a7",
   "metadata": {},
   "outputs": [
    {
     "name": "stdout",
     "output_type": "stream",
     "text": [
      "10\n",
      "9\n",
      "8\n",
      "7\n",
      "6\n",
      "5\n",
      "4\n",
      "3\n",
      "2\n"
     ]
    }
   ],
   "source": [
    "for i in range(10,1,-1):\n",
    "    print(i)"
   ]
  },
  {
   "cell_type": "code",
   "execution_count": 28,
   "id": "f31b7f13",
   "metadata": {},
   "outputs": [
    {
     "name": "stdout",
     "output_type": "stream",
     "text": [
      "1\n",
      "3\n",
      "5\n",
      "7\n",
      "9\n",
      "11\n",
      "13\n",
      "15\n",
      "17\n",
      "19\n",
      "21\n",
      "23\n",
      "25\n",
      "27\n",
      "29\n",
      "31\n",
      "33\n",
      "35\n",
      "37\n",
      "39\n",
      "41\n",
      "43\n",
      "45\n",
      "47\n",
      "49\n"
     ]
    }
   ],
   "source": [
    "#wap to find odd & even number from 1-50.\n",
    "\n",
    "for i in range(1,51,2):\n",
    "    print(i)"
   ]
  },
  {
   "cell_type": "code",
   "execution_count": 32,
   "id": "9391b139",
   "metadata": {},
   "outputs": [
    {
     "name": "stdout",
     "output_type": "stream",
     "text": [
      "odd number--------> 1\n",
      "odd number--------> 3\n",
      "odd number--------> 5\n",
      "odd number--------> 7\n",
      "odd number--------> 9\n",
      "odd number--------> 11\n",
      "odd number--------> 13\n",
      "odd number--------> 15\n",
      "odd number--------> 17\n",
      "odd number--------> 19\n",
      "odd number--------> 21\n",
      "odd number--------> 23\n",
      "odd number--------> 25\n",
      "odd number--------> 27\n",
      "odd number--------> 29\n",
      "odd number--------> 31\n",
      "odd number--------> 33\n",
      "odd number--------> 35\n",
      "odd number--------> 37\n",
      "odd number--------> 39\n",
      "odd number--------> 41\n",
      "odd number--------> 43\n",
      "odd number--------> 45\n",
      "odd number--------> 47\n",
      "odd number--------> 49\n"
     ]
    }
   ],
   "source": [
    "for i in range(1,51):\n",
    "    if i % 2 != 0:\n",
    "        print(\"odd number-------->\",i)\n",
    "#     else:\n",
    "#         print(\"Odd number--->\",i)"
   ]
  },
  {
   "cell_type": "markdown",
   "id": "ef2fe2ac",
   "metadata": {},
   "source": [
    "# While loop"
   ]
  },
  {
   "cell_type": "code",
   "execution_count": 36,
   "id": "e8c9ac7b",
   "metadata": {},
   "outputs": [
    {
     "ename": "SyntaxError",
     "evalue": "invalid syntax (Temp/ipykernel_1924/3300299950.py, line 12)",
     "output_type": "error",
     "traceback": [
      "\u001b[1;36m  File \u001b[1;32m\"C:\\Users\\Satyam\\AppData\\Local\\Temp/ipykernel_1924/3300299950.py\"\u001b[1;36m, line \u001b[1;32m12\u001b[0m\n\u001b[1;33m    x++\u001b[0m\n\u001b[1;37m       ^\u001b[0m\n\u001b[1;31mSyntaxError\u001b[0m\u001b[1;31m:\u001b[0m invalid syntax\n"
     ]
    }
   ],
   "source": [
    "#step 1. initialization\n",
    "# strp 2. condition\n",
    "#step 3. increment/decrement\n",
    "\n",
    "# 0-10\n",
    "\n",
    "x = 0\n",
    "while x<=15:\n",
    "    print(x)\n",
    "#     x=x+1\n",
    "#     x+=1\n",
    "    x++"
   ]
  },
  {
   "cell_type": "code",
   "execution_count": 37,
   "id": "e9b30362",
   "metadata": {},
   "outputs": [
    {
     "name": "stdout",
     "output_type": "stream",
     "text": [
      "-1\n",
      "-2\n",
      "-3\n",
      "-4\n",
      "-5\n",
      "-6\n",
      "-7\n",
      "-8\n",
      "-9\n",
      "-10\n"
     ]
    }
   ],
   "source": [
    "# use while loop\n",
    "\n",
    "#wap to print number from 1-10.\n",
    "#wap to print number from -1to-10.\n",
    "#wap to print number from  -1 to 10.\n",
    "#wap to print number from -10 to 1.\n",
    "#wap to find odd & even number from 1-50.\n",
    "\n",
    "\n",
    "x = -1\n",
    "while x >= -10:\n",
    "    print(x)\n",
    "    x = x-1"
   ]
  },
  {
   "cell_type": "code",
   "execution_count": 41,
   "id": "bbc6dd53",
   "metadata": {},
   "outputs": [
    {
     "name": "stdout",
     "output_type": "stream",
     "text": [
      "Odd num----------> 1\n",
      "Even Num 2\n",
      "Odd num----------> 3\n",
      "Even Num 4\n",
      "Odd num----------> 5\n",
      "Even Num 6\n",
      "Odd num----------> 7\n",
      "Even Num 8\n",
      "Odd num----------> 9\n",
      "Even Num 10\n",
      "Odd num----------> 11\n",
      "Even Num 12\n",
      "Odd num----------> 13\n",
      "Even Num 14\n",
      "Odd num----------> 15\n",
      "Even Num 16\n",
      "Odd num----------> 17\n",
      "Even Num 18\n",
      "Odd num----------> 19\n",
      "Even Num 20\n",
      "Odd num----------> 21\n",
      "Even Num 22\n",
      "Odd num----------> 23\n",
      "Even Num 24\n",
      "Odd num----------> 25\n",
      "Even Num 26\n",
      "Odd num----------> 27\n",
      "Even Num 28\n",
      "Odd num----------> 29\n",
      "Even Num 30\n",
      "Odd num----------> 31\n",
      "Even Num 32\n",
      "Odd num----------> 33\n",
      "Even Num 34\n",
      "Odd num----------> 35\n",
      "Even Num 36\n",
      "Odd num----------> 37\n",
      "Even Num 38\n",
      "Odd num----------> 39\n",
      "Even Num 40\n",
      "Odd num----------> 41\n",
      "Even Num 42\n",
      "Odd num----------> 43\n",
      "Even Num 44\n",
      "Odd num----------> 45\n",
      "Even Num 46\n",
      "Odd num----------> 47\n",
      "Even Num 48\n",
      "Odd num----------> 49\n",
      "Even Num 50\n"
     ]
    }
   ],
   "source": [
    "x = 1\n",
    "while x<=50:\n",
    "    if x%2 == 0:\n",
    "        print(\"Even Num\",x)\n",
    "    else:\n",
    "        print(\"Odd num---------->\",x)\n",
    "    x=x+1"
   ]
  },
  {
   "cell_type": "code",
   "execution_count": null,
   "id": "aebfed37",
   "metadata": {},
   "outputs": [],
   "source": []
  }
 ],
 "metadata": {
  "kernelspec": {
   "display_name": "Python 3 (ipykernel)",
   "language": "python",
   "name": "python3"
  },
  "language_info": {
   "codemirror_mode": {
    "name": "ipython",
    "version": 3
   },
   "file_extension": ".py",
   "mimetype": "text/x-python",
   "name": "python",
   "nbconvert_exporter": "python",
   "pygments_lexer": "ipython3",
   "version": "3.9.7"
  }
 },
 "nbformat": 4,
 "nbformat_minor": 5
}
